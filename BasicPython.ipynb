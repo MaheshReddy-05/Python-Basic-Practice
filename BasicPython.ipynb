{
 "cells": [
  {
   "cell_type": "markdown",
   "id": "f654bc8a",
   "metadata": {},
   "source": [
    "Datatypes in pthon\n",
    "1. Numeric\n",
    "    Integer\n",
    "    float\n",
    "    complex\n",
    "2. Boolean\n",
    "3. Mapping\n",
    "    Dictonary\n",
    "4. Set\n",
    "5. Sequence\n",
    "    list\n",
    "    tuple\n",
    "    String"
   ]
  },
  {
   "cell_type": "code",
   "execution_count": 2,
   "id": "4716f8cc",
   "metadata": {},
   "outputs": [
    {
     "name": "stdout",
     "output_type": "stream",
     "text": [
      "A is  20\n",
      "B is  30\n"
     ]
    }
   ],
   "source": [
    "a = 20\n",
    "b = 30\n",
    "\n",
    "print(\"A is \",a)\n",
    "print(\"B is \",b)"
   ]
  },
  {
   "cell_type": "markdown",
   "id": "ac18154e",
   "metadata": {},
   "source": [
    "Data Type conversion\n",
    "b = 2.9\n",
    "c = int(b)\n",
    "printing type == print(type(b))\n",
    "b = 10\n",
    "c = str(b)\n",
    "print(type(c)) == string"
   ]
  },
  {
   "cell_type": "code",
   "execution_count": 3,
   "id": "473d98ba",
   "metadata": {},
   "outputs": [
    {
     "name": "stdout",
     "output_type": "stream",
     "text": [
      "<class 'int'> <class 'float'> <class 'str'> <class 'complex'> <class 'bool'>\n"
     ]
    }
   ],
   "source": [
    "a = 10\n",
    "b = 2.3\n",
    "c = 'Mahesh'\n",
    "d = 3+7j\n",
    "e = True\n",
    "print(type(a),type(b),type(c),type(d),type(e))"
   ]
  },
  {
   "cell_type": "code",
   "execution_count": 8,
   "id": "b5eb41c6",
   "metadata": {},
   "outputs": [
    {
     "name": "stdout",
     "output_type": "stream",
     "text": [
      "<class 'str'>\n"
     ]
    }
   ],
   "source": [
    "s = str(a)\n",
    "print(type(s))"
   ]
  },
  {
   "cell_type": "markdown",
   "id": "e727d192",
   "metadata": {},
   "source": [
    "Control Statements\n",
    "1. Conditional Statements (if,else if,else)\n",
    "2. Looping Statements  (for, while)"
   ]
  },
  {
   "cell_type": "code",
   "execution_count": 15,
   "id": "8cd879e4",
   "metadata": {},
   "outputs": [
    {
     "name": "stdout",
     "output_type": "stream",
     "text": [
      "A is equal to B\n"
     ]
    }
   ],
   "source": [
    "#if statement\n",
    "a = 10\n",
    "b = 10\n",
    "if a==b :\n",
    "    print(\"A is equal to B\")\n",
    "else :\n",
    "    print(\"A is not equal to B\")\n"
   ]
  },
  {
   "cell_type": "code",
   "execution_count": 16,
   "id": "bd79a79e",
   "metadata": {},
   "outputs": [
    {
     "name": "stdout",
     "output_type": "stream",
     "text": [
      "hulla\n"
     ]
    }
   ],
   "source": [
    "#logical Operators\n",
    "# and or not\n",
    "if not(a==10):\n",
    "    print(\"Yahoooo\")\n",
    "else: \n",
    "    print(\"hulla\")"
   ]
  },
  {
   "cell_type": "markdown",
   "id": "28524374",
   "metadata": {},
   "source": [
    "List where we can store all type of data types\n",
    "it is represented in square bracketsk\n",
    "we can create nested list toooo"
   ]
  },
  {
   "cell_type": "code",
   "execution_count": 24,
   "id": "02425002",
   "metadata": {},
   "outputs": [
    {
     "name": "stdout",
     "output_type": "stream",
     "text": [
      "3\n",
      "Mahesh\n"
     ]
    }
   ],
   "source": [
    "list = [1,2.3,\"mahes\"]\n",
    "print(len(list))\n",
    "list = [1,2,3,4,[\"Mahesh\",\"Reddy\"]]\n",
    "print(list[4][0])"
   ]
  },
  {
   "cell_type": "code",
   "execution_count": 56,
   "id": "de5c2515",
   "metadata": {},
   "outputs": [
    {
     "name": "stdout",
     "output_type": "stream",
     "text": [
      "cherry\n",
      "melon\n",
      "['cherry', 'orange', 'kiwi']\n",
      "['apple', 'blackcurrant', 'watermelon', 'orange', 'kiwi', 'melon', 'mango']\n"
     ]
    }
   ],
   "source": [
    "# List Indexing\n",
    "list = [\"apple\", \"banana\", \"cherry\", \"orange\", \"kiwi\", \"melon\", \"mango\"]\n",
    "\n",
    "# Normal as starts from 0 to len-1\n",
    "print(list[2])\n",
    "\n",
    "# reverse indexing last elment is -1\n",
    "print(list[-2])\n",
    "\n",
    "# Renge Indexing in return list include start till before end\n",
    "print(list[2:5])\n",
    "\n",
    "# Change at a time\n",
    "list[1:3] = [\"blackcurrant\", \"watermelon\"]\n",
    "print(list)"
   ]
  },
  {
   "cell_type": "markdown",
   "id": "fe984682",
   "metadata": {},
   "source": [
    "List Methods\n",
    "1. append - add at last\n",
    "2. extend - increase the size of list\n",
    "3. remove - it will pop the last element\n",
    "4. insert - it act like set\n",
    "5. index  - return the index of that varaibel\n",
    "6. count  - based on input it will return the number of variables that occurs\n",
    "7. pop - it will remove that variable data\n",
    "8. reverse - make the list reverse"
   ]
  },
  {
   "cell_type": "code",
   "execution_count": 55,
   "id": "b32b375e",
   "metadata": {},
   "outputs": [],
   "source": [
    "# append will add the list as new list in existing list\n",
    "# list.append([1,2,3,4])\n",
    "\n",
    "# extend this will add the valuse in this to existing list\n",
    "# list.extend([1,2,3,4])\n",
    "\n",
    "# insert - insert in a perticular loc\n",
    "# list.insert(3,\"BSR\")\n",
    "\n",
    "# count - print no of occurence\n",
    "list.count(1) # True also considered as 1\n",
    "\n",
    "# pop index based remove\n",
    "list.pop(2) \n",
    "list.pop()\n",
    "\n",
    "# remove pop value based\n",
    "list.remove(\"banana\")\n",
    "\n",
    "# Reverse a list\n",
    "list.reverse()\n",
    "\n",
    "# sort acend to decend\n",
    "list.sort()\n",
    "\n",
    "#sort - decend - acend\n",
    "lsit.sort(reverse = True)\n",
    "\n",
    "# Key sort\n",
    "list.sort(key = str.lower)\n",
    "\n",
    "# copy a list\n",
    "list2 = list.copy()\n",
    "\n",
    "#Join list\n",
    "list3 = list+list2"
   ]
  },
  {
   "cell_type": "markdown",
   "id": "25822ce6",
   "metadata": {},
   "source": [
    "Looping\n",
    "1. for \n",
    "2. for enhanced\n",
    "3. while"
   ]
  },
  {
   "cell_type": "code",
   "execution_count": 60,
   "id": "271c6026",
   "metadata": {},
   "outputs": [
    {
     "name": "stdout",
     "output_type": "stream",
     "text": [
      "apple\n",
      "blackcurrant\n",
      "watermelon\n",
      "orange\n",
      "kiwi\n",
      "melon\n",
      "mango\n",
      "\n",
      "apple\n",
      "blackcurrant\n",
      "watermelon\n",
      "orange\n",
      "kiwi\n",
      "melon\n",
      "mango\n",
      "\n",
      "apple\n",
      "blackcurrant\n",
      "watermelon\n",
      "orange\n",
      "kiwi\n",
      "melon\n",
      "mango\n"
     ]
    }
   ],
   "source": [
    "#for loop\n",
    "for i in range(len(list)):\n",
    "    print(list[i])\n",
    "print()\n",
    "for i in list:\n",
    "    print(i)\n",
    "print()\n",
    "i = 0\n",
    "while i<len(list):\n",
    "    print(list[i])\n",
    "    i+=1"
   ]
  },
  {
   "cell_type": "code",
   "execution_count": null,
   "id": "070542c0",
   "metadata": {},
   "outputs": [],
   "source": []
  }
 ],
 "metadata": {
  "kernelspec": {
   "display_name": "Python 3",
   "language": "python",
   "name": "python3"
  },
  "language_info": {
   "codemirror_mode": {
    "name": "ipython",
    "version": 3
   },
   "file_extension": ".py",
   "mimetype": "text/x-python",
   "name": "python",
   "nbconvert_exporter": "python",
   "pygments_lexer": "ipython3",
   "version": "3.10.8 (tags/v3.10.8:aaaf517, Oct 11 2022, 16:50:30) [MSC v.1933 64 bit (AMD64)]"
  },
  "vscode": {
   "interpreter": {
    "hash": "369f2c481f4da34e4445cda3fffd2e751bd1c4d706f27375911949ba6bb62e1c"
   }
  }
 },
 "nbformat": 4,
 "nbformat_minor": 5
}
